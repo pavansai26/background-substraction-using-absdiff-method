{
 "cells": [
  {
   "cell_type": "code",
   "execution_count": null,
   "metadata": {},
   "outputs": [],
   "source": [
    "import cv2\n",
    "import numpy as np\n",
    "cap = cv2.VideoCapture(0)\n",
    "_, first_frame = cap.read()\n",
    "first_gray = cv2.cvtColor(first_frame, cv2.COLOR_BGR2GRAY)\n",
    "first_gray = cv2.GaussianBlur(first_gray, (5, 5), 0)\n",
    "while True:\n",
    "    _, frame = cap.read()\n",
    "    gray_frame = cv2.cvtColor(frame, cv2.COLOR_BGR2GRAY)\n",
    "    gray_frame = cv2.GaussianBlur(gray_frame, (5, 5), 0)\n",
    "    difference = cv2.absdiff(first_gray, gray_frame)\n",
    "    _, difference = cv2.threshold(difference, 100, 200, cv2.THRESH_BINARY)\n",
    "    cv2.imshow(\"First frame\", first_frame)\n",
    "    cv2.imshow(\"Frame\", frame)\n",
    "    cv2.imshow(\"difference\", difference)\n",
    "   \n",
    "    key = cv2.waitKey(30)\n",
    "    if key == 27:\n",
    "        break\n",
    "cap.release()\n",
    "cv2.destroyAllWindows()"
   ]
  },
  {
   "cell_type": "code",
   "execution_count": null,
   "metadata": {},
   "outputs": [],
   "source": []
  }
 ],
 "metadata": {
  "kernelspec": {
   "display_name": "Python 3",
   "language": "python",
   "name": "python3"
  },
  "language_info": {
   "codemirror_mode": {
    "name": "ipython",
    "version": 3
   },
   "file_extension": ".py",
   "mimetype": "text/x-python",
   "name": "python",
   "nbconvert_exporter": "python",
   "pygments_lexer": "ipython3",
   "version": "3.7.3"
  }
 },
 "nbformat": 4,
 "nbformat_minor": 2
}
